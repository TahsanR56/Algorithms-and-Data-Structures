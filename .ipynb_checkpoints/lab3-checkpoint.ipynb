{
 "cells": [
  {
   "cell_type": "markdown",
   "metadata": {},
   "source": [
    "# ECS529U Algorithms and Data Structures\n",
    "# Lab sheet 3\n",
    "\n",
    "This third lab gets you to work with big-Θ classes and practically check the efficiency of\n",
    "sorting algorithms by testing them on randomly generated arrays.\n",
    "\n",
    "**Marks (max 5):** Question 1: 1.5 | Question 2: 1 | Questions 3-4: 0.5 each | Questions 5-6: formative | Question 7: 1.5"
   ]
  },
  {
   "cell_type": "markdown",
   "metadata": {},
   "source": [
    "## Question 1 (does not require coding)\n",
    "\n",
    "For each of the following expressions, find if they are Θ(1), Θ(logn), Θ(n), Θ(nlogn), Θ(<sup>2</sup>), Θ(n<sup>2022</sup>) or Θ(2<sup>n</sup>):\n",
    "1. 500 + 0.5n + 45logn\n",
    "2. 5000\n",
    "3. 42 + nlogn + 5logn + 50n\n",
    "4. 5nlogn + 2<sup>n</sup> + 300n<sup>2020</sup>n<sup>2</sup>\n",
    "\n",
    "Find the complexity, in terms of a simple big-Θ class, of the following expression:\n",
    "\n",
    "&nbsp;&nbsp;&nbsp;&nbsp;&nbsp;&nbsp;5(logn)<sup>13</sup> + 300n<sup>3</sup> + 30nlogn + 100\n",
    "\n",
    "Finally, consider the following function that counts the duplicate elements inside an array.\n",
    "\n",
    "    def countDups(A):\n",
    "        B = A[:]\n",
    "        selectionSort(B)\n",
    "        dups = 0\n",
    "        for i in range (1,len(B)):\n",
    "            if B[i] == B[i-1]: dups += 1\n",
    "        return dups\n",
    "        \n",
    "Explain, in terms of big-Θ, what is the worst-case time complexity of `countDups` as a function of the size of the array `A`. Note here that the line `B=A[:]` is the same `B=A[0:len(A)]`, that is, it creates a copy of `A` and stores it in `B`."
   ]
  },
  {
   "cell_type": "code",
   "execution_count": 1,
   "metadata": {},
   "outputs": [],
   "source": [
    "#1 O(n)\n",
    "#2 O(1)\n",
    "#3 O(n)\n",
    "#4 O(2^n)\n",
    "\n",
    "# O(n^3)\n",
    "\n",
    "# worst time complexity is O(n^2) for selection sort, if array is in reverse order. it is O(n) for searching for duplicates but\n",
    "# o(n^2 takes priority"
   ]
  },
  {
   "cell_type": "markdown",
   "metadata": {},
   "source": [
    "## Question 2\n",
    "\n",
    "Write a version of insertion sort that works constructively, i.e. returns a new sorted array and leaves the original array unchanged.\n",
    "\n",
    "For example, if we call this version `insertionSortC`, and run the following code\n",
    "\n",
    "    A = [30, 25, 67, 99, 8, 16, 28, 63, 12, 20]\n",
    "    B = insertionSortC(A1)\n",
    "    print(\"Original array is: \",A)\n",
    "    print(\"Sorted is: \",B)\n",
    "we get this printout:\n",
    "\n",
    "    Original array is:  [30, 25, 67, 99, 8, 16, 28, 63, 12, 20]\n",
    "    Sorted is:  [8, 12, 16, 20, 25, 28, 30, 63, 67, 99]\n",
    "    \n",
    "Test your code in at least 5 arrays of your choosing, including the empty array."
   ]
  },
  {
   "cell_type": "code",
   "execution_count": 1,
   "metadata": {},
   "outputs": [
    {
     "name": "stdout",
     "output_type": "stream",
     "text": [
      "Original array is:  [30, 25, 67, 99, 8, 16, 28, 63, 12, 20]\n",
      "Sorted is:  [8, 12, 16, 20, 25, 28, 30, 63, 67, 99]\n"
     ]
    }
   ],
   "source": [
    "def insertionSortC(A):\n",
    "    B = A[:]\n",
    "    for i in range(1, len(B)):\n",
    "        insert(B[i], B, i)\n",
    "    return B\n",
    "\n",
    "def insert(v, A, h):\n",
    "    for i in range(h-1, -1, -1):\n",
    "        if v >= A[i]:\n",
    "            A[i+1] = v\n",
    "            return\n",
    "        A[i+1] = A[i]\n",
    "    A[0] = v\n",
    "\n",
    "A = [30, 25, 67, 99, 8, 16, 28, 63, 12, 20]\n",
    "B = [9,8,7,6,5,4,3,2,1]\n",
    "C = [3,3,3,3,3,3,3,3,3,3]\n",
    "D = [1]\n",
    "emptyArray = []\n",
    "\n",
    "\n",
    "\n",
    "\n",
    "B = insertionSortC(A)\n",
    "print(\"Original array is: \",A)\n",
    "print(\"Sorted is: \",B)\n",
    "\n",
    "\n",
    "    "
   ]
  },
  {
   "cell_type": "markdown",
   "metadata": {},
   "source": [
    "## Question 3\n",
    "\n",
    "For this question you may use Python's built-in function for producing random numbers. If you import Python's built-in module `random` by calling:\n",
    "\n",
    "    import random\n",
    "\n",
    "then `random.randint(low,high)` will return a random integer in the range `low` to `high` inclusive (i.e. an integer with an equal chance of it being any of the numbers in that range). Use this to write a Python function:\n",
    "\n",
    "    def randomIntArray(s,n)\n",
    "\n",
    "which returns an array of length `s` that in each position has a random integer in the range `0` to `n`.\n",
    "\n",
    "For example, running `randomIntArray(5,10)` we may get back the array `[6, 2, 3, 9, 1]`, or `[6, 10, 6, 1, 1]`, etc."
   ]
  },
  {
   "cell_type": "code",
   "execution_count": 4,
   "metadata": {},
   "outputs": [
    {
     "data": {
      "text/plain": [
       "[0, 0, 0, 0, 0, 0, 0, 0, 0]"
      ]
     },
     "execution_count": 4,
     "metadata": {},
     "output_type": "execute_result"
    }
   ],
   "source": [
    "import random\n",
    "\n",
    "def randomIntArray(s, n):\n",
    "    A = [None] * s\n",
    "    for i in range(len(A)):\n",
    "        A[i] = random.randint(0,n)\n",
    "    return A\n",
    "\n",
    "#randomIntArray(10,1)\n",
    "#randomIntArray(100,100)\n",
    "#randomIntArray(0,0)\n",
    "#randomIntArray(1,1)\n",
    "randomIntArray(9,0)"
   ]
  },
  {
   "cell_type": "markdown",
   "metadata": {},
   "source": [
    "## Question 4\n",
    "\n",
    "Python's built-in function `time()` in the module `time` returns the current time in the form of the number of seconds since 0.00am on 1st January 1970. So, code of the form:\n",
    "\n",
    "    t = time.time()\n",
    "    <operation>\n",
    "    t = time.time()-t\n",
    "    \n",
    "will set `t` to the time it takes to perform `<operation>`. As `time.time()` returns a floating point number rather than an integer, this could be a fraction of a second.\n",
    "\n",
    "Use this to write a Python function:\n",
    "\n",
    "    def appendTime(A,v)\n",
    "which takes an array `A` a value `v` as input and creates a new array with the same elements as `A` but with `v` appended at its end (for example, you can use the code of the function `append` that we saw in Lecture 1). The function then returns the new array and the time it took to create it. For example:\n",
    "\n",
    "    A = [30, 25, 67, 99, 8, 16, 28, 63, 12, 20]\n",
    "    (B,t) = appendTime(A,42)\n",
    "    print(\"Time taken to append is: \",t)\n",
    "    print(\"The new array is: \",B)\n",
    "\n",
    "we can get the printout:\n",
    "\n",
    "    Time taken to append is:  8.58306884765625e-06\n",
    "    The new array is:  [30, 25, 67, 99, 8, 16, 28, 63, 12, 20, 42]\n",
    "Test your code in at least 5 arrays, with lengths 0, 10, 100, 1000 and 10000 respectively."
   ]
  },
  {
   "cell_type": "code",
   "execution_count": 14,
   "metadata": {},
   "outputs": [],
   "source": [
    "import time\n",
    "\n",
    "def appendTime(A, v):\n",
    "    t = time.time()\n",
    "\n",
    "    B = [None] * (len(A) + 1)\n",
    "    for i in range(len(A)):\n",
    "        B[i] = A[i]\n",
    "    B[-1] = v\n",
    "\n",
    "    t = time.time() - t\n",
    "    return B, t\n",
    "\n"
   ]
  },
  {
   "cell_type": "code",
   "execution_count": 15,
   "metadata": {},
   "outputs": [
    {
     "name": "stdout",
     "output_type": "stream",
     "text": [
      "Time taken to append is:  5.7220458984375e-06\n",
      "Time taken to append is:  5.9604644775390625e-06\n",
      "Time taken to append is:  9.059906005859375e-06\n",
      "Time taken to append is:  9.799003601074219e-05\n",
      "Time taken to append is:  0.00060272216796875\n"
     ]
    }
   ],
   "source": [
    "# a possible set of tests\n",
    "\n",
    "tests = (randomIntArray(i,100) for i in [0,10,100,1000,10000])\n",
    "for A in tests:\n",
    "    (B,t) = appendTime(A,42)\n",
    "    print(\"Time taken to append is: \",t)"
   ]
  },
  {
   "cell_type": "markdown",
   "metadata": {},
   "source": [
    "## Question 5\n",
    "\n",
    "Write a Python method:\n",
    "\n",
    "    def sortTimeUsing(sortf,A)\n",
    "    \n",
    "which returns the time taken to sort the array `A`, but does the sorting using the sorting function\n",
    "passed as argument `sortf`. This uses the concept of passing a function as an\n",
    "argument that was introduced in Question 6 of Lab 1.\n",
    "\n",
    "Use this to compare the time taken to sort using selection sort\n",
    "with the time taken to sort using insertion sort, the code of which you can find on the\n",
    "lecture slides, on some example arrays."
   ]
  },
  {
   "cell_type": "code",
   "execution_count": 6,
   "metadata": {},
   "outputs": [
    {
     "data": {
      "text/plain": [
       "(('Array: ', [0, 2, 2, 3, 3, 3, 4, 6, 8, 9, 12, 23, 54, 87]),\n",
       " ('Time taken: ', 1.5735626220703125e-05))"
      ]
     },
     "execution_count": 6,
     "metadata": {},
     "output_type": "execute_result"
    }
   ],
   "source": [
    "import time\n",
    "\n",
    "def sortTimeUsing(sortf, A):\n",
    "    t = time.time()\n",
    "    sortf(A)\n",
    "    t = time.time() - t\n",
    "\n",
    "    return (\"Array: \", A,), (\"Time taken: \", t)\n",
    "\n",
    "\n",
    "####################################################\n",
    "# Selection Sort\n",
    "\n",
    "def selectionSort(A):\n",
    "    for i in range(len(A)):\n",
    "        imin = findMin(i,A)\n",
    "        swap(i, imin, A)\n",
    "def findMin(i, A):\n",
    "    imin = i\n",
    "    for j in range(i+1, len(A)):\n",
    "        if A[j] < A[imin]:\n",
    "            imin = j\n",
    "    return imin\n",
    "def swap(i, j, A):\n",
    "    tmp = A[i]\n",
    "    A[i] = A[j]\n",
    "    A[j] = tmp\n",
    "\n",
    "    \n",
    "####################################################\n",
    "# Insertion Sort\n",
    "def insertionSort(A):\n",
    "    for i in range(1, len(A)):\n",
    "        insert(A[i], A, i)\n",
    "def insert(v, A, h):\n",
    "    for i in range(h-1, -1, -1):\n",
    "        if v>= A[i]:\n",
    "            A[i+1] = v\n",
    "            return\n",
    "        A[i+1] = A[i]\n",
    "    A[0] = v\n",
    "\n",
    "\n",
    "####################################################\n",
    "# Tests\n",
    "\n",
    "\n",
    "testArray = [4,3,2,6,8,9,3,54,23,87,2,3,12,0]\n",
    "sortTimeUsing(selectionSort, testArray)\n",
    "sortTimeUsing(insertionSort, testArray)"
   ]
  },
  {
   "cell_type": "markdown",
   "metadata": {},
   "source": [
    "## Question 6\n",
    "\n",
    "Use the method `randomIntArray` from Question 3 to provide arrays to be sorted by\n",
    "`sortTimeUsing`. This will enable you to test how long it takes to sort an array much longer than\n",
    "one you could type in yourself. Then, fill in the following table (but see Note).\n",
    "\n",
    "| array length |  10  | 100 | 1000 | 10<sup>4</sup> | 10<sup>5</sup> | 10<sup>6</sup> |\n",
    "|:------------|------|-----|------|-------|--------|----------------|\n",
    "| selection sort time (sec)| 9.775161743164062e-06    |   0.0002353191375732422   |    0.03031635284423828   |    1.8412425518035889    |  179.51474952697754   |           |\n",
    "| insertion sort time (sec)|3.743171691894531e-05 |   0.000209808349609375  |   0.022686481475830078   |   0.7912664413452148    |   74.80140447616577     |                |\n",
    "\n",
    "For each array length, produce a random array of that length, sort it via `sortTimeUsing` using selection sort and insertion sort (make sure you sort the same array twice!), and fill in the table the corresponding times.\n",
    "\n",
    "Note: sorting arrays of length greater than 10<sup>5</sup> may make your computer run out of\n",
    "memory and hang. For that reason, you can skip filling in the last column in the table. If you do want to fill it in, make sure you save everything before and be ready to hard-restart your computer!\n",
    "\n",
    "It would also make sense to stop a test if it runs over a few minutes and fill in “timeout” in\n",
    "the respective column."
   ]
  },
  {
   "cell_type": "code",
   "execution_count": 12,
   "metadata": {},
   "outputs": [],
   "source": [
    "#sortTimeUsing(selectionSort, randomIntArray((1*(10**1)), 1))\n",
    "#sortTimeUsing(selectionSort, randomIntArray((1*(10**2)), 1))\n",
    "#sortTimeUsing(selectionSort, randomIntArray((1*(10**3)), 1))\n",
    "#sortTimeUsing(selectionSort, randomIntArray((1*(10**4)), 1))\n",
    "#sortTimeUsing(selectionSort, randomIntArray((1*(10**5)), 1))\n",
    "#sortTimeUsing(selectionSort, randomIntArray((1*(10**6)), 1))"
   ]
  },
  {
   "cell_type": "code",
   "execution_count": 18,
   "metadata": {},
   "outputs": [],
   "source": [
    "#sortTimeUsing(insertionSort, randomIntArray((1*(10**1)), 1))\n",
    "#sortTimeUsing(insertionSort, randomIntArray((1*(10**2)), 1))\n",
    "#sortTimeUsing(insertionSort, randomIntArray((1*(10**3)), 1))\n",
    "#sortTimeUsing(insertionSort, randomIntArray((1*(10**4)), 1))\n",
    "#sortTimeUsing(insertionSort, randomIntArray((1*(10**5)), 1))\n",
    "#sortTimeUsing(insertionSort, randomIntArray((1*(10**6)), 1))\n"
   ]
  },
  {
   "cell_type": "markdown",
   "metadata": {},
   "source": [
    "## Question 7\n",
    "\n",
    "Write a version of insertion sort where the `insert` function uses binary search. More precisely, to insert a value `v` in an array `A` where the part `A[:i]` is sorted, the `insert` function will:\n",
    "- use binary search to find the position in `A[:i+1]` where `v` needs to be inserted\n",
    "- move elements from that position one place to the right and insert `v`\n",
    "\n",
    "What is the complexity of this version of insertion sort: O(n<sup>2</sup>) or O(nlogn)?"
   ]
  },
  {
   "cell_type": "code",
   "execution_count": 42,
   "metadata": {},
   "outputs": [
    {
     "name": "stdout",
     "output_type": "stream",
     "text": [
      "Original: [30, 25, 67, 99, 8, 16, 28, 63, 12, 20]\n",
      "Sorted: [8, 12, 16, 20, 25, 28, 30, 63, 67, 99]\n"
     ]
    }
   ],
   "source": [
    "# alt append\n",
    "def append(A,k):\n",
    "    B = [None for _ in range(len(A)+1)]\n",
    "    for i in range(len(A)): B[i]=A[i]\n",
    "    B[len(A)]=k\n",
    "    return B\n",
    "\n",
    "# alt insert\n",
    "def altInsert(A, i, v):\n",
    "    B = A[:i]\n",
    "    C = append(B, v)\n",
    "    D = C[:] + A[i:]\n",
    "    return D\n",
    "    \n",
    "\n",
    "# akt pop\n",
    "def altPop(A, i):\n",
    "    B = A[:i] + A[i+1:]\n",
    "    return B\n",
    "\n",
    "\n",
    "# Insertion Sort\n",
    "def insertionSortBin(A):\n",
    "    for i in range(1, len(A)):\n",
    "        v = A[i]\n",
    "        j = insertBin(v, A, i)\n",
    "        A = altPop(A, i)\n",
    "        A = altInsert(A, j, v)\n",
    "\n",
    "    return A\n",
    "        \n",
    "def insertBin(v, A, h):\n",
    "    left = 0\n",
    "    right = h\n",
    "\n",
    "    while(left <= right):\n",
    "        mid = (left+right)//2\n",
    "        \n",
    "        if(A[mid] < v):\n",
    "            left = mid + 1\n",
    "        else:\n",
    "            right = mid -1\n",
    "    \n",
    "    return left\n",
    "\n",
    "\n",
    "\n",
    "## comparisons are O(log n) but the swapping of elements is stlil o(n^2) worst case\n",
    "\n",
    "TTT = [30, 25, 67, 99, 8, 16, 28, 63, 12, 20]\n",
    "print(\"Original:\", TTT)\n",
    "sorted_TTT = insertionSortBin(TTT)\n",
    "print(\"Sorted:\", sorted_TTT)"
   ]
  },
  {
   "cell_type": "code",
   "execution_count": 38,
   "metadata": {},
   "outputs": [
    {
     "name": "stdout",
     "output_type": "stream",
     "text": [
      "[1, 2, 3]\n",
      "[1, 2, 3, 3, 4, 5]\n"
     ]
    }
   ],
   "source": [
    "A = [1,2,3,4,5]\n",
    "\n",
    "C = altInsert(A, 2, 3)\n",
    "print(C)\n",
    "\n"
   ]
  },
  {
   "cell_type": "code",
   "execution_count": null,
   "metadata": {},
   "outputs": [],
   "source": []
  }
 ],
 "metadata": {
  "kernelspec": {
   "display_name": "Python 3 (ipykernel)",
   "language": "python",
   "name": "python3"
  },
  "language_info": {
   "codemirror_mode": {
    "name": "ipython",
    "version": 3
   },
   "file_extension": ".py",
   "mimetype": "text/x-python",
   "name": "python",
   "nbconvert_exporter": "python",
   "pygments_lexer": "ipython3",
   "version": "3.12.3"
  }
 },
 "nbformat": 4,
 "nbformat_minor": 4
}
