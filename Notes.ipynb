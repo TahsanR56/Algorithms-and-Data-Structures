{
 "cells": [
  {
   "cell_type": "markdown",
   "metadata": {},
   "source": [
    "### Notes"
   ]
  },
  {
   "cell_type": "markdown",
   "metadata": {},
   "source": [
    "## Notes for Week 1"
   ]
  },
  {
   "cell_type": "code",
   "execution_count": 32,
   "metadata": {},
   "outputs": [
    {
     "name": "stdout",
     "output_type": "stream",
     "text": [
      "8\n"
     ]
    }
   ],
   "source": [
    "# Linear Search\n",
    "def LinearSearch(A, n):\n",
    "    found = -1\n",
    "    for i in range (len(A)):\n",
    "        if A[i] == n:\n",
    "            found = i\n",
    "    return found\n",
    "\n",
    "LinearSearch(A, 2)\n",
    "\n",
    "def LinearSearch2(A, n):\n",
    "    for i in range (len(A)):\n",
    "        if A[i] == n:\n",
    "            return i\n",
    "    return -1\n",
    "\n",
    "LinearSearch2(A, 3)\n",
    "\n",
    "print(A[8])"
   ]
  },
  {
   "cell_type": "code",
   "execution_count": 9,
   "metadata": {},
   "outputs": [
    {
     "name": "stdout",
     "output_type": "stream",
     "text": [
      "No Fizz or Buzz\n",
      "Fizz\n",
      "Buzz\n",
      "FizzBuzz\n",
      "FizzBuzz\n"
     ]
    }
   ],
   "source": [
    "# FizzBuzz\n",
    "def FizzBuzz(n):\n",
    "    if(n % 2 == 0 and n % 5 != 0):\n",
    "        print(\"Fizz\")\n",
    "    elif(n % 5 == 0 and n %2 != 0):\n",
    "        print(\"Buzz\")\n",
    "    elif((n % 2 and n %5) == 0):\n",
    "        print(\"FizzBuzz\")\n",
    "    else:\n",
    "        print(\"No Fizz or Buzz\")\n",
    "\n",
    "FizzBuzz(1)\n",
    "FizzBuzz(2)\n",
    "FizzBuzz(5)\n",
    "FizzBuzz(10)\n",
    "FizzBuzz(20)"
   ]
  },
  {
   "cell_type": "code",
   "execution_count": null,
   "metadata": {},
   "outputs": [],
   "source": [
    "# Examples from slides\n",
    "def printIfSquare(n): # integer input, integer/void output\n",
    "    for i in range(n+1):\n",
    "        if i**2 == n:\n",
    "            print(\"number \"+str(n)+\" is the square of \"+str(i))\n",
    "            return i\n",
    "        if i**2 > n:\n",
    "            print(\"number \"+str(n)+\" is not a square\")\n",
    "            return None # like null in Java\n",
    "\n",
    "printIfSquare(1600000000)"
   ]
  },
  {
   "cell_type": "code",
   "execution_count": 57,
   "metadata": {},
   "outputs": [
    {
     "name": "stdout",
     "output_type": "stream",
     "text": [
      "left =  0 right =  9 mid =  4\n",
      "left =  0 right =  3 mid =  1\n"
     ]
    },
    {
     "data": {
      "text/plain": [
       "(1, 'found at', 1)"
      ]
     },
     "execution_count": 57,
     "metadata": {},
     "output_type": "execute_result"
    }
   ],
   "source": [
    "def BinarySearch(A, n):\n",
    "    left = 0\n",
    "    right = len(A) -1\n",
    "    while(left <= right):\n",
    "        mid = (left+right)//2\n",
    "        print(\"left = \", left, \"right = \", right, \"mid = \", mid)\n",
    "        if A[mid] == n:\n",
    "            return(n, \"found at\", mid)\n",
    "        elif n < A[mid]:\n",
    "            right = mid -1\n",
    "            \n",
    "        elif n > A[mid]:\n",
    "            left = mid +1\n",
    "    return -1\n",
    "\n",
    "BinarySearch(A, 1)"
   ]
  },
  {
   "cell_type": "code",
   "execution_count": 78,
   "metadata": {},
   "outputs": [
    {
     "data": {
      "text/plain": [
       "2"
      ]
     },
     "execution_count": 78,
     "metadata": {},
     "output_type": "execute_result"
    }
   ],
   "source": [
    "# Exercises for Week 1:\n",
    "\n",
    "def isIn(A, n):\n",
    "    for i in range (len(A)):\n",
    "        if A[i] == n:\n",
    "            return True\n",
    "    return False\n",
    "\n",
    "isIn(A, 3)\n",
    "\n",
    "def append(A, n):\n",
    "    B = [0 for i in range (len(A) + 1)]\n",
    "    for i in range(len(A)):\n",
    "        B[i] = A[i]\n",
    "    \n",
    "    B[len(A)] = n\n",
    "    return B\n",
    "\n",
    "append(A, 11)\n",
    "\n",
    "\n",
    "def searchLast(A, n):\n",
    "    for i in range(len(A)-1 , -1, -1):\n",
    "        if A[i] == n:\n",
    "            return A[i]\n",
    "    return -1\n",
    "\n",
    "searchLast(A, 2)"
   ]
  },
  {
   "cell_type": "markdown",
   "metadata": {},
   "source": [
    "## Notes for Week 2"
   ]
  },
  {
   "cell_type": "code",
   "execution_count": 87,
   "metadata": {},
   "outputs": [
    {
     "data": {
      "text/plain": [
       "[1, 2, 3, 4, 5, 6, 7, 8, 9]"
      ]
     },
     "execution_count": 87,
     "metadata": {},
     "output_type": "execute_result"
    }
   ],
   "source": [
    "# Selection Sort\n",
    "def swap(i ,j, A):\n",
    "    temp = A[i]\n",
    "    A[i] = A[j]\n",
    "    A[j] = temp\n",
    "\n",
    "def findMinimum(i, A):\n",
    "    imin = i\n",
    "    for j in range(i+1, len(A)):\n",
    "        if A[j] < A[imin]:\n",
    "            imin = j\n",
    "    return imin\n",
    "\n",
    "def selectionSort(A):\n",
    "    for i in range(len(A)):\n",
    "        imin = findMinimum(i, A)\n",
    "        swap(imin, i, A)\n",
    "    return A\n",
    "\n",
    "    \n",
    "\n",
    "U = [3,5,6,4,2,8,1,9,7]\n",
    "\n",
    "selectionSort(U)"
   ]
  },
  {
   "cell_type": "code",
   "execution_count": 89,
   "metadata": {},
   "outputs": [
    {
     "data": {
      "text/plain": [
       "[1, 3, 2, 4]"
      ]
     },
     "execution_count": 89,
     "metadata": {},
     "output_type": "execute_result"
    }
   ],
   "source": [
    "# swap without another variable\n",
    "def swap2(i, j, A):\n",
    "    A[i], A[j] = A[j], A[i]\n",
    "    return A\n",
    "\n",
    "L = [1,2,3,4]\n",
    "swap2(1,2,L)"
   ]
  },
  {
   "cell_type": "code",
   "execution_count": null,
   "metadata": {},
   "outputs": [],
   "source": []
  }
 ],
 "metadata": {
  "kernelspec": {
   "display_name": "Python 3 (ipykernel)",
   "language": "python",
   "name": "python3"
  },
  "language_info": {
   "codemirror_mode": {
    "name": "ipython",
    "version": 3
   },
   "file_extension": ".py",
   "mimetype": "text/x-python",
   "name": "python",
   "nbconvert_exporter": "python",
   "pygments_lexer": "ipython3",
   "version": "3.12.3"
  }
 },
 "nbformat": 4,
 "nbformat_minor": 4
}
