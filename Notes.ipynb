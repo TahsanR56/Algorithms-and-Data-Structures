{
 "cells": [
  {
   "cell_type": "markdown",
   "metadata": {},
   "source": [
    "### Notes"
   ]
  },
  {
   "cell_type": "markdown",
   "metadata": {
    "jp-MarkdownHeadingCollapsed": true
   },
   "source": [
    "## Notes for Week 1"
   ]
  },
  {
   "cell_type": "code",
   "execution_count": 32,
   "metadata": {},
   "outputs": [
    {
     "name": "stdout",
     "output_type": "stream",
     "text": [
      "8\n"
     ]
    }
   ],
   "source": [
    "# Linear Search\n",
    "def LinearSearch(A, n):\n",
    "    found = -1\n",
    "    for i in range (len(A)):\n",
    "        if A[i] == n:\n",
    "            found = i\n",
    "    return found\n",
    "\n",
    "LinearSearch(A, 2)\n",
    "\n",
    "def LinearSearch2(A, n):\n",
    "    for i in range (len(A)):\n",
    "        if A[i] == n:\n",
    "            return i\n",
    "    return -1\n",
    "\n",
    "LinearSearch2(A, 3)\n",
    "\n",
    "print(A[8])"
   ]
  },
  {
   "cell_type": "code",
   "execution_count": 9,
   "metadata": {},
   "outputs": [
    {
     "name": "stdout",
     "output_type": "stream",
     "text": [
      "No Fizz or Buzz\n",
      "Fizz\n",
      "Buzz\n",
      "FizzBuzz\n",
      "FizzBuzz\n"
     ]
    }
   ],
   "source": [
    "# FizzBuzz\n",
    "def FizzBuzz(n):\n",
    "    if(n % 2 == 0 and n % 5 != 0):\n",
    "        print(\"Fizz\")\n",
    "    elif(n % 5 == 0 and n %2 != 0):\n",
    "        print(\"Buzz\")\n",
    "    elif((n % 2 and n %5) == 0):\n",
    "        print(\"FizzBuzz\")\n",
    "    else:\n",
    "        print(\"No Fizz or Buzz\")\n",
    "\n",
    "FizzBuzz(1)\n",
    "FizzBuzz(2)\n",
    "FizzBuzz(5)\n",
    "FizzBuzz(10)\n",
    "FizzBuzz(20)"
   ]
  },
  {
   "cell_type": "code",
   "execution_count": null,
   "metadata": {},
   "outputs": [],
   "source": [
    "# Examples from slides\n",
    "def printIfSquare(n): # integer input, integer/void output\n",
    "    for i in range(n+1):\n",
    "        if i**2 == n:\n",
    "            print(\"number \"+str(n)+\" is the square of \"+str(i))\n",
    "            return i\n",
    "        if i**2 > n:\n",
    "            print(\"number \"+str(n)+\" is not a square\")\n",
    "            return None # like null in Java\n",
    "\n",
    "printIfSquare(1600000000)"
   ]
  },
  {
   "cell_type": "code",
   "execution_count": 57,
   "metadata": {},
   "outputs": [
    {
     "name": "stdout",
     "output_type": "stream",
     "text": [
      "left =  0 right =  9 mid =  4\n",
      "left =  0 right =  3 mid =  1\n"
     ]
    },
    {
     "data": {
      "text/plain": [
       "(1, 'found at', 1)"
      ]
     },
     "execution_count": 57,
     "metadata": {},
     "output_type": "execute_result"
    }
   ],
   "source": [
    "def BinarySearch(A, n):\n",
    "    left = 0\n",
    "    right = len(A) -1\n",
    "    while(left <= right):\n",
    "        mid = (left+right)//2\n",
    "        print(\"left = \", left, \"right = \", right, \"mid = \", mid)\n",
    "        if A[mid] == n:\n",
    "            return(n, \"found at\", mid)\n",
    "        elif n < A[mid]:\n",
    "            right = mid -1\n",
    "            \n",
    "        elif n > A[mid]:\n",
    "            left = mid +1\n",
    "    return -1\n",
    "\n",
    "BinarySearch(A, 1)"
   ]
  },
  {
   "cell_type": "code",
   "execution_count": 78,
   "metadata": {},
   "outputs": [
    {
     "data": {
      "text/plain": [
       "2"
      ]
     },
     "execution_count": 78,
     "metadata": {},
     "output_type": "execute_result"
    }
   ],
   "source": [
    "# Exercises for Week 1:\n",
    "\n",
    "def isIn(A, n):\n",
    "    for i in range (len(A)):\n",
    "        if A[i] == n:\n",
    "            return True\n",
    "    return False\n",
    "\n",
    "isIn(A, 3)\n",
    "\n",
    "def append(A, n):\n",
    "    B = [0 for i in range (len(A) + 1)]\n",
    "    for i in range(len(A)):\n",
    "        B[i] = A[i]\n",
    "    \n",
    "    B[len(A)] = n\n",
    "    return B\n",
    "\n",
    "append(A, 11)\n",
    "\n",
    "\n",
    "def searchLast(A, n):\n",
    "    for i in range(len(A)-1 , -1, -1):\n",
    "        if A[i] == n:\n",
    "            return A[i]\n",
    "    return -1\n",
    "\n",
    "searchLast(A, 2)"
   ]
  },
  {
   "cell_type": "markdown",
   "metadata": {
    "jp-MarkdownHeadingCollapsed": true
   },
   "source": [
    "## Notes for Week 2"
   ]
  },
  {
   "cell_type": "code",
   "execution_count": 87,
   "metadata": {},
   "outputs": [
    {
     "data": {
      "text/plain": [
       "[1, 2, 3, 4, 5, 6, 7, 8, 9]"
      ]
     },
     "execution_count": 87,
     "metadata": {},
     "output_type": "execute_result"
    }
   ],
   "source": [
    "# Selection Sort\n",
    "def swap(i ,j, A):\n",
    "    temp = A[i]\n",
    "    A[i] = A[j]\n",
    "    A[j] = temp\n",
    "\n",
    "def findMinimum(i, A):\n",
    "    imin = i\n",
    "    for j in range(i+1, len(A)):\n",
    "        if A[j] < A[imin]:\n",
    "            imin = j\n",
    "    return imin\n",
    "\n",
    "def selectionSort(A):\n",
    "    for i in range(len(A)):\n",
    "        imin = findMinimum(i, A)\n",
    "        swap(imin, i, A)\n",
    "    return A\n",
    "\n",
    "    \n",
    "\n",
    "U = [3,5,6,4,2,8,1,9,7]\n",
    "\n",
    "selectionSort(U)"
   ]
  },
  {
   "cell_type": "code",
   "execution_count": 89,
   "metadata": {},
   "outputs": [
    {
     "data": {
      "text/plain": [
       "[1, 3, 2, 4]"
      ]
     },
     "execution_count": 89,
     "metadata": {},
     "output_type": "execute_result"
    }
   ],
   "source": [
    "# swap without another variable\n",
    "def swap2(i, j, A):\n",
    "    A[i], A[j] = A[j], A[i]\n",
    "    return A\n",
    "\n",
    "L = [1,2,3,4]\n",
    "swap2(1,2,L)"
   ]
  },
  {
   "cell_type": "code",
   "execution_count": null,
   "metadata": {},
   "outputs": [],
   "source": []
  },
  {
   "cell_type": "markdown",
   "metadata": {},
   "source": [
    "## Notes for Week 3"
   ]
  },
  {
   "cell_type": "code",
   "execution_count": 99,
   "metadata": {},
   "outputs": [
    {
     "data": {
      "text/plain": [
       "6"
      ]
     },
     "execution_count": 99,
     "metadata": {},
     "output_type": "execute_result"
    }
   ],
   "source": [
    "# Factorial 2 ways\n",
    "def factorial1(n):\n",
    "    p = 1\n",
    "    for i in range(1, n+1):\n",
    "        p = p*i\n",
    "    return p\n",
    "\n",
    "def factorial2(n):\n",
    "    if n <= 1:\n",
    "        return 1\n",
    "    else:\n",
    "        return n * factorial2(n-1)\n",
    "\n",
    "        \n",
    "\n",
    "factorial2 (3)"
   ]
  },
  {
   "cell_type": "code",
   "execution_count": 9,
   "metadata": {},
   "outputs": [
    {
     "name": "stdout",
     "output_type": "stream",
     "text": [
      "0.9775390625\n"
     ]
    }
   ],
   "source": [
    "# coin toss bet\n",
    "heads = 0.5\n",
    "#tenHeads = heads ** 10\n",
    "tenHeads = heads * heads* heads* heads* heads* heads* heads* heads* heads* heads\n",
    "chance = tenHeads\n",
    "for i in range(0, 1000):\n",
    "    chance += 1 * tenHeads\n",
    "\n",
    "print(chance)\n"
   ]
  },
  {
   "cell_type": "code",
   "execution_count": null,
   "metadata": {},
   "outputs": [],
   "source": [
    "# coin toss bet recursive - sanyam attempt\n",
    "def coinTest():\n",
    "    heads = 0\n",
    "    talis = 0\n",
    "    \n",
    "    if wins == 10:\n",
    "        return 0:\n",
    "    C = coinTest(wins)\n",
    "def cointest1(wins):\n",
    "    #true = heads\n",
    "    if wins == 10:\n",
    "        return true\n",
    "    if \n",
    "    else:\n",
    "        return cointest(wins )"
   ]
  },
  {
   "cell_type": "code",
   "execution_count": null,
   "metadata": {},
   "outputs": [],
   "source": [
    "def coins(n):\n",
    "    ## want to find out how many throws it takes to get heads 10 times in a row\n",
    "    ## return a probability until chance is greter than 90%\n",
    "    chance = 0\n",
    "    if chance < 0.95:\n",
    "        chance = coinFlip(n + 1)\n",
    "    return chance\n",
    "\n",
    "def coinFlip(n):\n",
    "    chance = 0.5**10 * n\n",
    "    return #idk"
   ]
  },
  {
   "cell_type": "code",
   "execution_count": 6,
   "metadata": {},
   "outputs": [
    {
     "data": {
      "text/plain": [
       "4"
      ]
     },
     "execution_count": 6,
     "metadata": {},
     "output_type": "execute_result"
    }
   ],
   "source": [
    "# Recursive linear serach\n",
    "def searchArray(A, V):\n",
    "    if not A:\n",
    "        return -1\n",
    "    if A[0] == V:\n",
    "        return 0\n",
    "    recS = searchArray(A[1:], V)\n",
    "    if recS == -1:\n",
    "        return -1\n",
    "    return recS + 1\n",
    "\n",
    "\n",
    "A = [1,2,3,4,5,6,7,8]\n",
    "searchArray(A, 5)"
   ]
  },
  {
   "cell_type": "code",
   "execution_count": 11,
   "metadata": {},
   "outputs": [
    {
     "data": {
      "text/plain": [
       "6"
      ]
     },
     "execution_count": 11,
     "metadata": {},
     "output_type": "execute_result"
    }
   ],
   "source": [
    "# examples of tail recursion\n",
    "def factRecTail(n):\n",
    "    return factRecAux(n, 1)\n",
    "\n",
    "def factRecAux(n, acc):\n",
    "    if n == 0:\n",
    "        return acc\n",
    "    return factRecAux(n - 1, n * acc)\n",
    "\n",
    "\n",
    "factRecTail(3)"
   ]
  },
  {
   "cell_type": "code",
   "execution_count": 19,
   "metadata": {},
   "outputs": [
    {
     "name": "stdout",
     "output_type": "stream",
     "text": [
      "h1 =  [3] h2 =  [2]\n",
      "h1 =  [3] h2 =  [2]\n",
      "[2, 3]\n",
      "h1 =  [7] h2 =  [5]\n",
      "h1 =  [7] h2 =  [5]\n",
      "[5, 7]\n",
      "h1 =  [5] h2 =  [5, 7]\n",
      "h1 =  [5] h2 =  [5, 7]\n",
      "h1 =  [5] h2 =  [5, 7]\n",
      "[5, 5, 7]\n",
      "h1 =  [2, 3] h2 =  [5, 5, 7]\n",
      "h1 =  [2, 3] h2 =  [5, 5, 7]\n",
      "h1 =  [2, 3] h2 =  [5, 5, 7]\n",
      "h1 =  [2, 3] h2 =  [5, 5, 7]\n",
      "h1 =  [2, 3] h2 =  [5, 5, 7]\n",
      "[2, 3, 5, 5, 7]\n",
      "h1 =  [2] h2 =  [1]\n",
      "h1 =  [2] h2 =  [1]\n",
      "[1, 2]\n",
      "h1 =  [7] h2 =  [8]\n",
      "h1 =  [7] h2 =  [8]\n",
      "[7, 8]\n",
      "h1 =  [4] h2 =  [7, 8]\n",
      "h1 =  [4] h2 =  [7, 8]\n",
      "h1 =  [4] h2 =  [7, 8]\n",
      "[4, 7, 8]\n",
      "h1 =  [1, 2] h2 =  [4, 7, 8]\n",
      "h1 =  [1, 2] h2 =  [4, 7, 8]\n",
      "h1 =  [1, 2] h2 =  [4, 7, 8]\n",
      "h1 =  [1, 2] h2 =  [4, 7, 8]\n",
      "h1 =  [1, 2] h2 =  [4, 7, 8]\n",
      "[1, 2, 4, 7, 8]\n",
      "h1 =  [2, 3, 5, 5, 7] h2 =  [1, 2, 4, 7, 8]\n",
      "h1 =  [2, 3, 5, 5, 7] h2 =  [1, 2, 4, 7, 8]\n",
      "h1 =  [2, 3, 5, 5, 7] h2 =  [1, 2, 4, 7, 8]\n",
      "h1 =  [2, 3, 5, 5, 7] h2 =  [1, 2, 4, 7, 8]\n",
      "h1 =  [2, 3, 5, 5, 7] h2 =  [1, 2, 4, 7, 8]\n",
      "h1 =  [2, 3, 5, 5, 7] h2 =  [1, 2, 4, 7, 8]\n",
      "h1 =  [2, 3, 5, 5, 7] h2 =  [1, 2, 4, 7, 8]\n",
      "h1 =  [2, 3, 5, 5, 7] h2 =  [1, 2, 4, 7, 8]\n",
      "h1 =  [2, 3, 5, 5, 7] h2 =  [1, 2, 4, 7, 8]\n",
      "h1 =  [2, 3, 5, 5, 7] h2 =  [1, 2, 4, 7, 8]\n",
      "[1, 2, 3, 5, 5, 7, 2, 4, 7, 8]\n"
     ]
    }
   ],
   "source": [
    "# merge sort\n",
    "# divide the array A in two halves\n",
    "# sort each half recursively\n",
    "# merge the twho halves together\n",
    "\n",
    "def mergeSort(A):\n",
    "    if len(A) <= 1:\n",
    "        return\n",
    "    mid = len(A)//2\n",
    "    half1 = A[0:mid]\n",
    "    half2 = A[mid:]\n",
    "    mergeSort(half1)\n",
    "    mergeSort(half2)\n",
    "    merge(half1, half2, A)\n",
    "    print(A)\n",
    "\n",
    "\n",
    "def merge(h1, h2, A):\n",
    "    i = 0\n",
    "    j1 = 0\n",
    "    j2 = 0\n",
    "\n",
    "    if h1[j1] < h2[j2]:\n",
    "        A[i] = h1[j1]\n",
    "        i = i + 1\n",
    "        j1 = j1 + 1\n",
    "        print(\"h1 = \", h1, \"h2 = \", h2)\n",
    "    else:\n",
    "        A[i] = h2[j2]\n",
    "        i = i + 1\n",
    "        j2 = j2 + 1\n",
    "        print(\"h1 = \", h1, \"h2 = \", h2)\n",
    "\n",
    "\n",
    "    \n",
    "    while j1 < len(h1):\n",
    "        A[i] = h1[j1]\n",
    "        i+= 1\n",
    "        j1 += 1\n",
    "        print(\"h1 = \", h1, \"h2 = \", h2)\n",
    "\n",
    "\n",
    "    while j2< len(h2):\n",
    "        A[i] = h2[j2]\n",
    "        i+= 1\n",
    "        j2 += 1\n",
    "        print(\"h1 = \", h1, \"h2 = \", h2)\n",
    "\n",
    "\n",
    "A = [3,2,5,7,5,2,1,4,7,8]\n",
    "\n",
    "mergeSort(A)"
   ]
  },
  {
   "cell_type": "markdown",
   "metadata": {
    "jp-MarkdownHeadingCollapsed": true
   },
   "source": [
    "## Notes for Week 4"
   ]
  },
  {
   "cell_type": "markdown",
   "metadata": {
    "jp-MarkdownHeadingCollapsed": true
   },
   "source": [
    "## Notes for Week 5"
   ]
  },
  {
   "cell_type": "markdown",
   "metadata": {
    "jp-MarkdownHeadingCollapsed": true
   },
   "source": [
    "## Notes for Week 6"
   ]
  },
  {
   "cell_type": "markdown",
   "metadata": {
    "jp-MarkdownHeadingCollapsed": true
   },
   "source": [
    "## Notes for Week 7"
   ]
  },
  {
   "cell_type": "markdown",
   "metadata": {
    "jp-MarkdownHeadingCollapsed": true
   },
   "source": [
    "## Notes for Week 8"
   ]
  },
  {
   "cell_type": "markdown",
   "metadata": {
    "jp-MarkdownHeadingCollapsed": true
   },
   "source": [
    "## Notes for Week 9"
   ]
  }
 ],
 "metadata": {
  "kernelspec": {
   "display_name": "Python 3 (ipykernel)",
   "language": "python",
   "name": "python3"
  },
  "language_info": {
   "codemirror_mode": {
    "name": "ipython",
    "version": 3
   },
   "file_extension": ".py",
   "mimetype": "text/x-python",
   "name": "python",
   "nbconvert_exporter": "python",
   "pygments_lexer": "ipython3",
   "version": "3.12.3"
  }
 },
 "nbformat": 4,
 "nbformat_minor": 4
}
