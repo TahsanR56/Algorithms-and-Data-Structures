{
 "cells": [
  {
   "cell_type": "markdown",
   "metadata": {},
   "source": [
    "# ECS529U Algorithms and Data Structures\n",
    "# Lab sheet 4\n",
    "\n",
    "This fourth lab gets you to work with recursive algorithms and also practically compare the\n",
    "efficiency of more sorting algorithms by testing them on randomly generated arrays.\n",
    "\n",
    "**Marks (max 5):** Questions 1-4: 1 each | Questions 5-6: formative | Question 7: 1 "
   ]
  },
  {
   "cell_type": "markdown",
   "metadata": {},
   "source": [
    "## Question 1\n",
    "\n",
    "Write a Python function\n",
    "   \n",
    "    def timesOccursIn(k,A)\n",
    "    \n",
    "which which takes an integer and an array of integers and returns the number of times the\n",
    "integer occurs in the array. You must use recursion and no loops for this question.\n",
    "\n",
    "For example, if its arguments are `5` and `[1,2,5,3,6,5,3,5,5,4]` the function should return `4`.\n",
    "\n",
    "_Hint:_ Suppose `A` is not empty. If the first element of `A` is in fact `k`, the number of times that `k`\n",
    "occurs in `A` is “1 + the number of times it occurs in `A[1:]`”. Otherwise, it is the same as the\n",
    "number of times it occurs in `A[1:]`. On the other hand, if `A` is the empty array `[]` then `k`\n",
    "occurs 0 times in it."
   ]
  },
  {
   "cell_type": "code",
   "execution_count": 2,
   "metadata": {},
   "outputs": [
    {
     "name": "stdout",
     "output_type": "stream",
     "text": [
      "5 4\n"
     ]
    }
   ],
   "source": [
    "def timesOccursIn(k,A):    \n",
    "    if not A:\n",
    "        return 0\n",
    "        \n",
    "    head = A[0]\n",
    "    tail = A[1:]\n",
    "\n",
    "    count = timesOccursIn(k, tail)\n",
    "\n",
    "    if head == k:\n",
    "        return count+1\n",
    "    else:\n",
    "        return count\n",
    "\n",
    "A = [1, 5, 2, 5, 5, 5, 3, 5]\n",
    "B = [1,2,5,3,6,5,3,5,5,4]\n",
    "\n",
    "x = timesOccursIn(5, A)\n",
    "y = timesOccursIn(5, B)\n",
    "\n",
    "print(x,y)\n"
   ]
  },
  {
   "cell_type": "markdown",
   "metadata": {},
   "source": [
    "## Question 2\n",
    "Write a Python function\n",
    "\n",
    "    def multArray(A,k)\n",
    "\n",
    "which takes an array `A` of integers and an integer `k` and changes `A` by multiplying each of\n",
    "its elements by `k`. You must use recursion and no loops for this question.\n",
    "For example, if it takes the array `[5,12,31,7,25]` and the integer `10`, it changes the \n",
    "array so that it becomes `[50,120,310,70,250]`.\n",
    "\n",
    "_Hint:_ The following “solution” will not work, as each recursive call creates a new copy of A\n",
    "so the original A is not changed.\n",
    "\n",
    "    def multAllNope(k,A):\n",
    "        if A == []: return\n",
    "        A[0] = A[0]*k\n",
    "        return multAllNope(k,A[1:])        \n",
    "Instead, the trick to do this is to define an auxiliary function `multAllRec(k,A,i)` which multiplies all elements of `A[i:]` by `k`. This function can then be defined with recursion."
   ]
  },
  {
   "cell_type": "code",
   "execution_count": 23,
   "metadata": {},
   "outputs": [
    {
     "data": {
      "text/plain": [
       "[10, 20, 30, 40, 50, 60, 70, 80, 90, 100]"
      ]
     },
     "execution_count": 23,
     "metadata": {},
     "output_type": "execute_result"
    }
   ],
   "source": [
    "def multAllRec(k, A, i):\n",
    "    if i < len(A):\n",
    "        A[i] = A[i]*k\n",
    "        return multAllRec(k, A, i+1)\n",
    "\n",
    "def multArray(k, A):\n",
    "    if len(A) == 0:\n",
    "        return -1\n",
    "    multAllRec(k, A, 0)\n",
    "    return A\n",
    "\n",
    "\n",
    "A = [1,2,3,4,5,6,7,8,9,10]\n",
    "multArray(10,A)"
   ]
  },
  {
   "cell_type": "markdown",
   "metadata": {},
   "source": [
    "## Question 3\n",
    "\n",
    "Using recursion, write a Python function\n",
    "\n",
    "    def printArray(A)\n",
    "    \n",
    "that prints the elements of `A`, in order, one element per line.\n",
    "\n",
    "Now, using recursion, write a Python function\n",
    "\n",
    "    def printArrayRev(A)\n",
    "    \n",
    "that prints the elements of `A`, in reversed order, one element per line."
   ]
  },
  {
   "cell_type": "code",
   "execution_count": 41,
   "metadata": {},
   "outputs": [
    {
     "name": "stdout",
     "output_type": "stream",
     "text": [
      "1\n",
      "2\n",
      "3\n",
      "4\n",
      "5\n",
      "6\n",
      "7\n",
      "8\n",
      "9\n"
     ]
    }
   ],
   "source": [
    "def printArrayAux(A, i):\n",
    "    if i < len(A):\n",
    "        print(A[i])\n",
    "        return printArrayAux(A, i+1)\n",
    "\n",
    "def printArray(A):\n",
    "    if len(A) == 0:\n",
    "        return -1\n",
    "    printArrayAux(A, 0)\n",
    "\n",
    "A = [1,2,3,4,5,6,7,8,9]\n",
    "\n",
    "printArray(A)"
   ]
  },
  {
   "cell_type": "code",
   "execution_count": 39,
   "metadata": {},
   "outputs": [
    {
     "name": "stdout",
     "output_type": "stream",
     "text": [
      "9\n",
      "8\n",
      "7\n",
      "6\n",
      "5\n",
      "4\n",
      "3\n",
      "2\n",
      "1\n"
     ]
    }
   ],
   "source": [
    "def printArrayRevAux(A, i):\n",
    "    if i > -1:\n",
    "        print(A[i])\n",
    "        return printArrayRevAux(A, i-1)\n",
    "\n",
    "def printArrayRev(A):\n",
    "    if len(A) == 0:\n",
    "        return -1\n",
    "    printArrayRevAux(A,len(A)-1)\n",
    "printArrayRev(A)"
   ]
  },
  {
   "cell_type": "markdown",
   "metadata": {},
   "source": [
    "## Question 4\n",
    "\n",
    "Using recursion, write a Python function\n",
    "\n",
    "    def binSearch2(A,k)\n",
    "    \n",
    "which searches for `k` in `A` using binary search (see Lecture 1)."
   ]
  },
  {
   "cell_type": "code",
   "execution_count": 59,
   "metadata": {},
   "outputs": [
    {
     "data": {
      "text/plain": [
       "0"
      ]
     },
     "execution_count": 59,
     "metadata": {},
     "output_type": "execute_result"
    }
   ],
   "source": [
    "def binSearch2(A, k):\n",
    "    if len(A) == 0:\n",
    "        return -1\n",
    "        \n",
    "    mid = len(A) // 2\n",
    "    if A[mid] == k:\n",
    "        return mid\n",
    "    elif A[mid] > k:\n",
    "        return binSearch2(A[:mid], k)\n",
    "    else:\n",
    "        return binSearch2(A[mid+1:], k)\n",
    "        if r\n",
    "\n",
    "\n",
    "A = [1,2,3,4,5,6,7,8,9]\n",
    "\n",
    "binSearch2(A, 6)"
   ]
  },
  {
   "cell_type": "markdown",
   "metadata": {},
   "source": [
    "## Question 5\n",
    "\n",
    "Using your solution to Question 5 from Lab 3, compare the four sorting functions we saw\n",
    "(selection, insertion, merge and quick sort) using random arrays and fill in the table below.\n",
    "For each array length, produce 5 random arrays to test the sorting functions and fill in the\n",
    "corresponding cell the average running time (in seconds) for each function. You can copy\n",
    "and paste the sorting code from the lecture slides.\n",
    "\n",
    "| array length |  10  | 100 | 1000 | 10<sup>4</sup> | 10<sup>5</sup> |\n",
    "|:------------|------|-----|------|-------|--------|\n",
    "| selection sort time (sec)| |     |      |       |        |                \n",
    "| insertion sort time (sec)| |     |      |       |        |                \n",
    "| merge sort time (sec)| |     |      |       |        |                \n",
    "| quicksort time (sec)| |     |      |       |        |                \n"
   ]
  },
  {
   "cell_type": "markdown",
   "metadata": {},
   "source": [
    "## Question 6\n",
    "\n",
    "Consider this `Script` class:\n",
    "    \n",
    "    class Script:\n",
    "        def __init__(self, sid, mark):\n",
    "            self.sid = sid\n",
    "            self.mark = mark\n",
    "        \n",
    "        def __str__(self):\n",
    "            return \"Script\"+str((self.sid,self.mark))    \n",
    "\n",
    "Using recursion, write a Python function\n",
    "\n",
    "    def filter(A,f)\n",
    "    \n",
    "which takes an array `A` of `Script` objects and a function `f` that takes a `Script` as input and returns a boolean. We call such a function a _filter_ as it allows us to filter `A` as follows. `filter(A,f)` should return a new array of `Script`'s\n",
    "which consists of those `Script`'s in `A` who \"pass\" the filter `f`, that is, when `f` is applied to those `Script`'s it returns `True`. The order of elements in the new array should be the same as in `A` (excluding filtered-out elements).\n",
    "\n",
    "For example, the following code (see also Question 3)\n",
    "\n",
    "    def passes(s):\n",
    "        return s.mark>=40\n",
    "\n",
    "    A = [Script(0,0), Script(1000,57), Script(2000,63), Script(3000,34), Script(4000,79), Script(5000,22), Script(6000,17), Script(7000,40), Script(8000,39), Script(9000,96)]\n",
    "    printArray(filter(A,passes))\n",
    "\n",
    "should return\n",
    "\n",
    "    Script(1000, 57)\n",
    "    Script(2000, 63)\n",
    "    Script(4000, 79)\n",
    "    Script(7000, 40)\n",
    "    Script(9000, 96)\n",
    "\n",
    "You can use the `append` method we defined in earlier weeks (even if not recursive)."
   ]
  },
  {
   "cell_type": "markdown",
   "metadata": {},
   "source": [
    "## Question 7\n",
    "\n",
    "Write a Python function\n",
    "\n",
    "    def countSubArrays(A,B)\n",
    "    \n",
    "which returns the number of times the array `A` occurs as a (contiguous) sub-array in `B`. If `A` is empty, return `len(B)+1`. You may solve this problem using recursion or\n",
    "iteration or a mixture of recursion and iteration.\n",
    "\n",
    "For an array to be a subarray of another, it must occur entirely within the other one without\n",
    "other elements in between. For example:\n",
    "- `[31,7,25]` is a subarray of `[10,20,26,31,7,25,40,9]`, and occurs only once. \n",
    "- `[26,31,25,40]` is not a subarray of `[10,20,26,31,7,25,40,9]`, so occurs zero times, \n",
    "- `[2,2]` occurs three times in `[2,2,2,5,2,2]`. \n"
   ]
  },
  {
   "cell_type": "markdown",
   "metadata": {},
   "source": []
  }
 ],
 "metadata": {
  "kernelspec": {
   "display_name": "Python 3 (ipykernel)",
   "language": "python",
   "name": "python3"
  },
  "language_info": {
   "codemirror_mode": {
    "name": "ipython",
    "version": 3
   },
   "file_extension": ".py",
   "mimetype": "text/x-python",
   "name": "python",
   "nbconvert_exporter": "python",
   "pygments_lexer": "ipython3",
   "version": "3.12.3"
  }
 },
 "nbformat": 4,
 "nbformat_minor": 4
}
