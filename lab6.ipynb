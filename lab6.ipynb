{
 "cells": [
  {
   "cell_type": "markdown",
   "metadata": {},
   "source": [
    "# ECS529U Algorithms and Data Structures\n",
    "# Lab sheet 6\n",
    "\n",
    "This lab gets you to work with linked lists.\n",
    "\n",
    "**Marks (max 5):**  Questions 1-5: 1 each |  Question 6: formative"
   ]
  },
  {
   "cell_type": "markdown",
   "metadata": {},
   "source": [
    "## Question 1\n",
    "\n",
    "You are asked to solve the following pointer game. Start with this initial configuration:\n",
    "\n",
    "![pointers](https://edon.github.io/img/t/pointers.jpg)\n",
    "    \n",
    "Perform the following groups of operations and draw the new final lists in each case. Each \n",
    "time, start from the initial configuration above.\n",
    "\n",
    "     a) ls1.next = ls1.next.next\n",
    "        ls2.next = ls1.next\n",
    "        ls2.next.data = 42\n",
    "    \n",
    "     b) while ptr1.next != None:\n",
    "            ptr1.data = 42\n",
    "            ptr1 = ptr1.next\n",
    "        ptr1.data = 24\n",
    "    \n",
    "     c) ptr1.next = ls2\n",
    "        ptr1.next.data = 40\n",
    "        ptr2 = ptr2.next\n",
    "        ls2 = Node(4,ls1)\n",
    "        ls1 = ptr2"
   ]
  },
  {
   "cell_type": "markdown",
   "metadata": {},
   "source": [
    "For the next four Questions, you are asked to work on the Python implementation of the \n",
    "LinkedList class that we saw in the lecture (week 5). The code is in `lecture5.ipynb`."
   ]
  },
  {
   "cell_type": "markdown",
   "metadata": {},
   "source": [
    "## Question 2\n",
    "\n",
    "Add in `LinkedList` the following functions:\n",
    "\n",
    "a) `def appendAll(self, A)` [no marks, solved in class]\n",
    "\n",
    "that appends to the linked list (the one represented by \n",
    "`self`) all elements of the array `A`. \n",
    "For example, if `ls` is `[2,3,4,3,5]` then `ls.appendAll([4,2,1])` changes `ls` to \n",
    "`[2,3,4,3,5,4,2,1]`.\n",
    "\n",
    "Consider how efficient is your implementation -- can you do better?\n",
    "\n",
    "b) `def nullify(self)`\n",
    "\n",
    "that removes all elements from the list. I.e. `ls.nullify()` changes `ls` to `[]`.\n",
    "\n",
    "c) `def clone(self)`\n",
    "\n",
    "that creates a (new) copy of the list. For example, if `ls` is `[2,3,4,5]` then `ls.clone()` should return a new list `[2,3,4,5]`. The original list should not be changed.\n",
    "\n",
    "d) `def merge(self, other)`\n",
    "\n",
    "that merges the linked list with the linked list `other`. After merging, the list `other` should be empty and all its elements be part of `self`. For example, if `ls` is `[2,3,4,5]`\n",
    "and `ls2` is `[42,17]`, then:\n",
    "\n",
    "      ls.merge(ls2) \n",
    "      print(ls,\",\",ls.length,\",\",ls2,\",\",ls2.length)      \n",
    "should print `--> 2 -> 3 -> 4 -> 5 -> 42 -> 17 ->| , 6 , -->| , 0`."
   ]
  },
  {
   "cell_type": "code",
   "execution_count": 50,
   "metadata": {},
   "outputs": [
    {
     "name": "stdout",
     "output_type": "stream",
     "text": [
      "appendAll test: --> 2 -> 3 -> 4 -> 5 ->| , 4\n",
      "appendAll test: --> 2 -> 3 -> 4 -> 5 -> 42 -> 24 ->| , 6\n",
      "nullify test: -->| , 0\n",
      "clone test: -->| , 0 , -->| , 0\n",
      "clone test: --> 1 -> 2 -> 3 -> 4 ->| , 4 , -->| , 0\n",
      "clone test: --> 1 -> 2 -> 3 -> 4 ->| , 4 , --> 1 -> 2 -> 3 -> 4 ->| , 4\n",
      "merge test: --> 2 -> 3 -> 4 -> 5 -> 24 ->| , 5 , -->| , 0\n",
      "merge test: --> 2 -> 3 -> 4 -> 5 -> 24 -> 42 -> 17 ->| , 7 , -->| , 0\n",
      "merge test: --> 2 -> 3 -> 4 -> 5 -> 24 -> 42 -> 17 ->| , 7 , -->| , 0\n",
      "merge test: -->| , 0 , --> 2 -> 3 -> 4 -> 5 -> 24 -> 42 -> 17 ->| , 7\n"
     ]
    }
   ],
   "source": [
    "# some minimal testing code (you might want to do more tests!)\n",
    "\n",
    "ls = LinkedList()\n",
    "ls.appendAll([2,3,4,5])\n",
    "print(\"appendAll test:\",ls,\",\",ls.length)\n",
    "ls.appendAll([42,24])\n",
    "print(\"appendAll test:\",ls,\",\",ls.length)\n",
    "\n",
    "ls.nullify()\n",
    "print(\"nullify test:\",ls,\",\",ls.length)\n",
    "\n",
    "ls = LinkedList()\n",
    "ls2 = ls.clone()\n",
    "print(\"clone test:\",ls,\",\",ls.length,\",\",ls2,\",\",ls2.length)      \n",
    "ls.appendAll([1,2,3,4])\n",
    "print(\"clone test:\",ls,\",\",ls.length,\",\",ls2,\",\",ls2.length)      \n",
    "ls2 = ls.clone()\n",
    "print(\"clone test:\",ls,\",\",ls.length,\",\",ls2,\",\",ls2.length)      \n",
    "\n",
    "ls = LinkedList()\n",
    "ls.appendAll([2,3,4,5])\n",
    "ls2 = LinkedList()\n",
    "ls2.append(24)\n",
    "ls.merge(ls2)\n",
    "print(\"merge test:\",ls,\",\",ls.length,\",\",ls2,\",\",ls2.length)      \n",
    "ls2.appendAll([42,17])\n",
    "ls.merge(ls2)\n",
    "print(\"merge test:\",ls,\",\",ls.length,\",\",ls2,\",\",ls2.length)      \n",
    "ls.merge(ls2)\n",
    "print(\"merge test:\",ls,\",\",ls.length,\",\",ls2,\",\",ls2.length)      \n",
    "ls2.merge(ls)\n",
    "print(\"merge test:\",ls,\",\",ls.length,\",\",ls2,\",\",ls2.length)      "
   ]
  },
  {
   "cell_type": "markdown",
   "metadata": {},
   "source": [
    "## Question 3\n",
    "\n",
    "__Using recursion__, write a function\n",
    "\n",
    "    def insertRec(ptr, i, d)\n",
    "    \n",
    "that takes a pointer `ptr` (i.e. a `Node` of a `LinkedList`), an integer `i` and a value `d`, and inserts `d` in the i-th position after `ptr`. The function should return a pointer to the updated list segment after the addition. \n",
    "\n",
    "For example, if the list segment starting at `ptr` is `1 -> 2 -> 3 ->|` then `insertRec(ptr, 0, 5)` should return `5 -> 1 -> 2 -> 3 ->|`, whereas `insertRec(ptr, 3, 6)` should return `1 -> 2 -> 3 -> 6 ->|`.\n",
    "\n",
    "**Hint.** Your function could look like:\n",
    "\n",
    "    def insertRec(ptr,i,d):\n",
    "        if i == 0: # base case\n",
    "            return Node(d,ptr) \n",
    "        # now deal with recursive case\n",
    "        ...\n",
    "Using `insertRec` add in `LinkedList` a function \n",
    "\n",
    "    def insert2(self,i,d)\n",
    "    \n",
    "that has the same specification as `insert` but works recursively."
   ]
  },
  {
   "cell_type": "code",
   "execution_count": 46,
   "metadata": {},
   "outputs": [
    {
     "name": "stdout",
     "output_type": "stream",
     "text": [
      "insert2 test: --> 1 -> 1 -> 2 -> 3 -> 4 -> 5 -> 24 -> 42 -> 43 -> 17 -> 21 ->| , 11\n",
      "insert2 test: --> 1 -> 1 -> 2 -> 3 -> 4 -> 5 -> 24 -> 42 -> 43 -> 17 -> 43 -> 21 ->| , 12\n",
      "insert2 test: --> 1 -> 1 -> 2 -> 3 -> 4 -> 5 -> 24 -> 42 -> 43 -> 17 -> 43 -> 21 -> 21 ->| , 13\n"
     ]
    }
   ],
   "source": [
    "ls2.insert2(0,1)\n",
    "print(\"insert2 test:\",ls2,\",\",ls2.length)\n",
    "ls2.insert2(ls2.length-1,43)\n",
    "print(\"insert2 test:\",ls2,\",\",ls2.length)\n",
    "ls2.insert2(ls2.length,21)\n",
    "print(\"insert2 test:\",ls2,\",\",ls2.length)"
   ]
  },
  {
   "cell_type": "markdown",
   "metadata": {},
   "source": [
    "## Question 4\n",
    "\n",
    "Add in `LinkedList` a function \n",
    "\n",
    "    def sort(self)\n",
    "    \n",
    "that sorts the linked list using quicksort.\n",
    "\n",
    "__Hint:__ you can adapt the algorithm we saw in Lecture 3. Starting from the current list (`self`),\n",
    "let `pivot` be the data at the head of the list, and create two new linked lists: one called \n",
    "`smaller` (which contains all elements whose data is smaller than pivot), and one `other` \n",
    "(containing all remaining elements, apart from `pivot`). Then, call `smaller.sort()` and \n",
    "`other.sort()`, set the current list to `smaller`, then append `pivot` and merge with `other`."
   ]
  },
  {
   "cell_type": "code",
   "execution_count": 51,
   "metadata": {},
   "outputs": [
    {
     "name": "stdout",
     "output_type": "stream",
     "text": [
      "sort test: --> 8 -> 12 -> 16 -> 20 -> 25 -> 28 -> 30 -> 63 -> 67 -> 99 ->| , 10\n"
     ]
    }
   ],
   "source": [
    "ls = LinkedList()\n",
    "ls.appendAll([30, 25, 67, 99, 8, 16, 28, 63, 12, 20])\n",
    "ls.sort()\n",
    "print(\"sort test:\",ls,\",\",ls.length)"
   ]
  },
  {
   "cell_type": "markdown",
   "metadata": {},
   "source": [
    "## Question 5\n",
    "\n",
    "Add in `LinkedList` a function \n",
    "\n",
    "    def breakCycle(self)\n",
    "    \n",
    "that fixes the linked list by breaking any cycles. Our implementation of linked lists allows cycles. For example, if `ls` is the linked list `[2,3,4,5]`:\n",
    "\n",
    "    ls.head.next.next = ls.head     # makes ls cyclic: 2 -> 3 -> (head)\n",
    "\n",
    "which would cause many of its functions to hang in an infinite loop. The function `breakCycle` should break such cycles by going through the linked list from `self.head` to the node `node` whose `node.next` points to some node that has already been visited, and breaking the cycle by assinging `node.next = None`. See the short examples below. You should also update `self.length` as it may have been wrong before. "
   ]
  },
  {
   "cell_type": "code",
   "execution_count": 13,
   "metadata": {},
   "outputs": [
    {
     "name": "stdout",
     "output_type": "stream",
     "text": [
      "--> 2 -> 3 -> 4 -> 5 ->|\n",
      "None\n",
      "--> 2 -> 3 -> 4 -> 5 ->|\n",
      "--> 2 -> 3 -> 4 -> 5 ->|\n",
      "--> 2 -> 3 -> 4 -> 5 ->|\n"
     ]
    }
   ],
   "source": [
    "ls = LinkedList()\n",
    "ls.appendAll([2,3,4,5])\n",
    "print(ls)\n",
    "print(ls.breakCycle())\n",
    "print(ls)\n",
    "\n",
    "ls.head.next.next.next.next = ls.head\n",
    "ls.breakCycle()\n",
    "print(ls)\n",
    "\n",
    "ls.head.next.next.next.next = ls.head.next.next\n",
    "ls.breakCycle()\n",
    "print(ls)"
   ]
  },
  {
   "cell_type": "markdown",
   "metadata": {},
   "source": [
    "## Question 6\n",
    "\n",
    "You are asked to write a class `DLinkedList` which implements doubly linked lists. A doubly\n",
    "linked list is one in which each node points both to the next and to the previous node in the\n",
    "list (see Lecture 5, slide 22).\n",
    "\n",
    "Your implementation should keep track of both the head and the tail (i.e. the last node) of \n",
    "the doubly linked list. Here is the constructor you can use:\n",
    "\n",
    "    class DLinkedList:\n",
    "        def __init__(self):\n",
    "            self.head = None   # this is of type DNode\n",
    "            self.tail = None   # this is of type DNode\n",
    "            self.length = 0\n",
    "            \n",
    "The nodes of the linked list are taken from the class `DNode2` which we define as:\n",
    "\n",
    "    class DNode:\n",
    "        def __init__(self, d, n, p):\n",
    "            self.data = d\n",
    "            self.next = n\n",
    "            self.prev = p\n",
    "            \n",
    "where each node has a piece of data and two pointers: one to the next element in the list, \n",
    "and one to the previous one. You are asked to implement the following functions:\n",
    "\n",
    "- `search(self,d)` for searching the value `d` in the doubly linked list\n",
    "- `append(self,d)` for appending the value `d` at the tail of the doubly linked list\n",
    "- `insert(self,i,d)` for inserting the value `d` in position `i` of the doubly linked list\n",
    "- `remove(self,i)` for removing and returning the element in position `i` of the doubly linked list\n",
    "\n",
    "To help you debug your code, you can use the following function to print a linked list \n",
    "starting from its head, and starting from its tail:\n",
    "\n",
    "    def __str__(self):\n",
    "        st = \"\"\n",
    "        ptr = self.head\n",
    "        while ptr != None:\n",
    "            st = st + str(ptr.data)\n",
    "            st = st+\" -> \"\n",
    "            ptr = ptr.next\n",
    "        st += \"None, and reversed: \"\n",
    "        ptr = self.tail\n",
    "        while ptr != None:\n",
    "            st = st + str(ptr.data)\n",
    "            st = st+\" -> \"\n",
    "            ptr = ptr.prev\n",
    "        return st+\"None\""
   ]
  },
  {
   "cell_type": "code",
   "execution_count": 15,
   "metadata": {},
   "outputs": [
    {
     "name": "stdout",
     "output_type": "stream",
     "text": [
      "1. creation test: None, and reversed: None 0\n",
      "2. append test: 0 -> 1 -> 3 -> None, and reversed: 3 -> 1 -> 0 -> None 3\n",
      "3. insert test: -2 -> -1 -> 0 -> 1 -> 3 -> None, and reversed: 3 -> 1 -> 0 -> -1 -> -2 -> None 5\n",
      "4. insert test: -2 -> -1 -> 0 -> 1 -> 2 -> 3 -> None, and reversed: 3 -> 2 -> 1 -> 0 -> -1 -> -2 -> None 6\n",
      "4. insert test: -2 -> -1 -> 0 -> 1 -> 2 -> 3 -> 4 -> None, and reversed: 4 -> 3 -> 2 -> 1 -> 0 -> -1 -> -2 -> None 7\n",
      "5. search test: 3 4\n",
      "6. remove test: -1 -> 0 -> 1 -> 2 -> 3 -> 4 -> None, and reversed: 4 -> 3 -> 2 -> 1 -> 0 -> -1 -> None 6 4\n",
      "7. remove test: -1 -> 0 -> 1 -> 2 -> 3 -> None, and reversed: 3 -> 2 -> 1 -> 0 -> -1 -> None 5 3\n",
      "8. search test: 2 3 4 -1\n",
      "9. insert test: -1 -> 0 -> 1 -> 2 -> 1 -> 3 -> None, and reversed: 3 -> 1 -> 2 -> 1 -> 0 -> -1 -> None 6 3\n",
      "10. search test: 2 3 5 -1\n",
      "11. remove test: None, and reversed: None 0 None\n"
     ]
    }
   ],
   "source": [
    "ls = DLinkedList()\n",
    "print(\"1. creation test:\",ls,ls.length)\n",
    "for x in [0,1,3]: ls.append(x)\n",
    "print(\"2. append test:\",ls,ls.length)\n",
    "ls.insert(0,-2); ls.insert(1,-1)\n",
    "print(\"3. insert test:\",ls,ls.length)\n",
    "ls.insert(4,2)\n",
    "print(\"4. insert test:\",ls,ls.length)\n",
    "ls.insert(6,4)\n",
    "print(\"4. insert test:\",ls,ls.length)\n",
    "print(\"5. search test:\",ls.search(1),ls.search(2))\n",
    "ls.remove(0)\n",
    "print(\"6. remove test:\",ls,ls.length,ls.tail.data)\n",
    "ls.remove(5)\n",
    "print(\"7. remove test:\",ls,ls.length,ls.tail.data)\n",
    "print(\"8. search test:\",ls.search(1),ls.search(2),ls.search(3),ls.search(4))\n",
    "ls.insert(4,1)\n",
    "print(\"9. insert test:\",ls,ls.length,ls.tail.data)\n",
    "print(\"10. search test:\",ls.search(1),ls.search(2),ls.search(3),ls.search(4))\n",
    "for i in range(ls.length-1,-1,-1): ls.remove(i)\n",
    "print(\"11. remove test:\",ls,ls.length,ls.tail)"
   ]
  }
 ],
 "metadata": {
  "kernelspec": {
   "display_name": "Python 3",
   "language": "python",
   "name": "python3"
  },
  "language_info": {
   "codemirror_mode": {
    "name": "ipython",
    "version": 3
   },
   "file_extension": ".py",
   "mimetype": "text/x-python",
   "name": "python",
   "nbconvert_exporter": "python",
   "pygments_lexer": "ipython3",
   "version": "3.10.15"
  }
 },
 "nbformat": 4,
 "nbformat_minor": 2
}
